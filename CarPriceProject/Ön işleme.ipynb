{
 "cells": [
  {
   "cell_type": "code",
   "execution_count": 308,
   "id": "d1481a9c",
   "metadata": {},
   "outputs": [],
   "source": [
    "import pandas as pd    #Dataframe işlemleri için\n",
    "import seaborn as sns  #Korelasyon\n",
    "import matplotlib.pyplot as plt  #Görselleştirme\n",
    "from sklearn.impute import SimpleImputer  #Eksik veriler olduğu takdirde doldurmak için.\n",
    "from sklearn.preprocessing import LabelEncoder  #String to integer\n",
    "from sklearn.model_selection import train_test_split,cross_val_score # Test train ayarlamak için.\n",
    "import numpy as np\n",
    "from sklearn import metrics\n",
    "from sklearn.metrics import r2_score\n",
    "\n",
    "# Multiple linear Regresyon\n",
    "# Random Forrest  \n",
    "# Decision Tree \n",
    "from sklearn.linear_model import LinearRegression\n",
    "from sklearn.ensemble import RandomForestRegressor\n",
    "from sklearn import tree\n",
    "from sklearn.tree import DecisionTreeRegressor"
   ]
  },
  {
   "cell_type": "code",
   "execution_count": 309,
   "id": "d19ba824",
   "metadata": {},
   "outputs": [],
   "source": [
    "df = pd.read_csv('./CAR DETAILS FROM CAR DEKHO.csv')"
   ]
  },
  {
   "cell_type": "code",
   "execution_count": 310,
   "id": "768683cf",
   "metadata": {},
   "outputs": [
    {
     "data": {
      "text/html": [
       "<div>\n",
       "<style scoped>\n",
       "    .dataframe tbody tr th:only-of-type {\n",
       "        vertical-align: middle;\n",
       "    }\n",
       "\n",
       "    .dataframe tbody tr th {\n",
       "        vertical-align: top;\n",
       "    }\n",
       "\n",
       "    .dataframe thead th {\n",
       "        text-align: right;\n",
       "    }\n",
       "</style>\n",
       "<table border=\"1\" class=\"dataframe\">\n",
       "  <thead>\n",
       "    <tr style=\"text-align: right;\">\n",
       "      <th></th>\n",
       "      <th>name</th>\n",
       "      <th>year</th>\n",
       "      <th>selling_price</th>\n",
       "      <th>km_driven</th>\n",
       "      <th>fuel</th>\n",
       "      <th>seller_type</th>\n",
       "      <th>transmission</th>\n",
       "      <th>owner</th>\n",
       "    </tr>\n",
       "  </thead>\n",
       "  <tbody>\n",
       "    <tr>\n",
       "      <th>0</th>\n",
       "      <td>Maruti 800 AC</td>\n",
       "      <td>2007</td>\n",
       "      <td>60000</td>\n",
       "      <td>70000</td>\n",
       "      <td>Petrol</td>\n",
       "      <td>Individual</td>\n",
       "      <td>Manual</td>\n",
       "      <td>First Owner</td>\n",
       "    </tr>\n",
       "    <tr>\n",
       "      <th>1</th>\n",
       "      <td>Maruti Wagon R LXI Minor</td>\n",
       "      <td>2007</td>\n",
       "      <td>135000</td>\n",
       "      <td>50000</td>\n",
       "      <td>Petrol</td>\n",
       "      <td>Individual</td>\n",
       "      <td>Manual</td>\n",
       "      <td>First Owner</td>\n",
       "    </tr>\n",
       "    <tr>\n",
       "      <th>2</th>\n",
       "      <td>Hyundai Verna 1.6 SX</td>\n",
       "      <td>2012</td>\n",
       "      <td>600000</td>\n",
       "      <td>100000</td>\n",
       "      <td>Diesel</td>\n",
       "      <td>Individual</td>\n",
       "      <td>Manual</td>\n",
       "      <td>First Owner</td>\n",
       "    </tr>\n",
       "    <tr>\n",
       "      <th>3</th>\n",
       "      <td>Datsun RediGO T Option</td>\n",
       "      <td>2017</td>\n",
       "      <td>250000</td>\n",
       "      <td>46000</td>\n",
       "      <td>Petrol</td>\n",
       "      <td>Individual</td>\n",
       "      <td>Manual</td>\n",
       "      <td>First Owner</td>\n",
       "    </tr>\n",
       "    <tr>\n",
       "      <th>4</th>\n",
       "      <td>Honda Amaze VX i-DTEC</td>\n",
       "      <td>2014</td>\n",
       "      <td>450000</td>\n",
       "      <td>141000</td>\n",
       "      <td>Diesel</td>\n",
       "      <td>Individual</td>\n",
       "      <td>Manual</td>\n",
       "      <td>Second Owner</td>\n",
       "    </tr>\n",
       "  </tbody>\n",
       "</table>\n",
       "</div>"
      ],
      "text/plain": [
       "                       name  year  selling_price  km_driven    fuel  \\\n",
       "0             Maruti 800 AC  2007          60000      70000  Petrol   \n",
       "1  Maruti Wagon R LXI Minor  2007         135000      50000  Petrol   \n",
       "2      Hyundai Verna 1.6 SX  2012         600000     100000  Diesel   \n",
       "3    Datsun RediGO T Option  2017         250000      46000  Petrol   \n",
       "4     Honda Amaze VX i-DTEC  2014         450000     141000  Diesel   \n",
       "\n",
       "  seller_type transmission         owner  \n",
       "0  Individual       Manual   First Owner  \n",
       "1  Individual       Manual   First Owner  \n",
       "2  Individual       Manual   First Owner  \n",
       "3  Individual       Manual   First Owner  \n",
       "4  Individual       Manual  Second Owner  "
      ]
     },
     "execution_count": 310,
     "metadata": {},
     "output_type": "execute_result"
    }
   ],
   "source": [
    "df.head()"
   ]
  },
  {
   "cell_type": "code",
   "execution_count": 311,
   "id": "d5d386e2",
   "metadata": {},
   "outputs": [
    {
     "data": {
      "text/plain": [
       "Maruti Swift Dzire VDI                     69\n",
       "Maruti Alto 800 LXI                        59\n",
       "Maruti Alto LXi                            47\n",
       "Maruti Alto LX                             35\n",
       "Hyundai EON Era Plus                       35\n",
       "                                           ..\n",
       "Hyundai Verna Transform CRDi VGT SX ABS     1\n",
       "Maruti S-Presso VXI Plus                    1\n",
       "Toyota Etios Liva 1.2 VX                    1\n",
       "Toyota Yaris G                              1\n",
       "Hyundai i20 Magna 1.4 CRDi                  1\n",
       "Name: name, Length: 1491, dtype: int64"
      ]
     },
     "execution_count": 311,
     "metadata": {},
     "output_type": "execute_result"
    }
   ],
   "source": [
    "df.name.value_counts()"
   ]
  },
  {
   "cell_type": "code",
   "execution_count": 312,
   "id": "5b073423",
   "metadata": {
    "scrolled": true
   },
   "outputs": [
    {
     "data": {
      "text/plain": [
       "<AxesSubplot:ylabel='owner'>"
      ]
     },
     "execution_count": 312,
     "metadata": {},
     "output_type": "execute_result"
    },
    {
     "data": {
      "image/png": "[encoded data removed]",
      "text/plain": [
       "<Figure size 360x1080 with 1 Axes>"
      ]
     },
     "metadata": {},
     "output_type": "display_data"
    },
    {
     "data": {
      "image/png": "[encoded data removed]",
      "text/plain": [
       "<Figure size 360x1080 with 1 Axes>"
      ]
     },
     "metadata": {},
     "output_type": "display_data"
    },
    {
     "data": {
      "image/png": "[encoded data removed]",
      "text/plain": [
       "<Figure size 360x1080 with 1 Axes>"
      ]
     },
     "metadata": {},
     "output_type": "display_data"
    },
    {
     "data": {
      "image/png": "[encoded data removed]",
      "text/plain": [
       "<Figure size 360x1080 with 1 Axes>"
      ]
     },
     "metadata": {},
     "output_type": "display_data"
    },
    {
     "data": {
      "image/png": "[encoded data removed]",
      "text/plain": [
       "<Figure size 360x1080 with 1 Axes>"
      ]
     },
     "metadata": {},
     "output_type": "display_data"
    }
   ],
   "source": [
    "fig = plt.figure(figsize=(5,15))\n",
    "df.year.value_counts().plot(kind= 'pie', autopct='%.1f%%')\n",
    "\n",
    "fig = plt.figure(figsize=(5,15))\n",
    "df.fuel.value_counts().plot(kind= 'pie', autopct='%.1f%%')\n",
    "\n",
    "fig = plt.figure(figsize=(5,15))\n",
    "df.seller_type.value_counts().plot(kind= 'pie', autopct='%.1f%%')\n",
    "\n",
    "fig = plt.figure(figsize=(5,15))\n",
    "df.transmission.value_counts().plot(kind= 'pie', autopct='%.1f%%')\n",
    "\n",
    "fig = plt.figure(figsize=(5,15))\n",
    "df.owner.value_counts().plot(kind= 'pie', autopct='%.1f%%')"
   ]
  },
  {
   "cell_type": "code",
   "execution_count": 313,
   "id": "bf8c54cb",
   "metadata": {
    "scrolled": false
   },
   "outputs": [
    {
     "data": {
      "text/plain": [
       "<seaborn.axisgrid.FacetGrid at 0x17e83694a00>"
      ]
     },
     "execution_count": 313,
     "metadata": {},
     "output_type": "execute_result"
    },
    {
     "data": {
      "image/png": "[encoded data removed]",
      "text/plain": [
       "<Figure size 360x360 with 1 Axes>"
      ]
     },
     "metadata": {
      "needs_background": "light"
     },
     "output_type": "display_data"
    },
    {
     "data": {
      "image/png": "[encoded data removed]",
      "text/plain": [
       "<Figure size 360x360 with 1 Axes>"
      ]
     },
     "metadata": {
      "needs_background": "light"
     },
     "output_type": "display_data"
    }
   ],
   "source": [
    "sns.lmplot(x='km_driven', y='selling_price', data=df)\n",
    "\n",
    "sns.lmplot(x='year', y='selling_price', data=df)"
   ]
  },
  {
   "cell_type": "code",
   "execution_count": 271,
   "id": "7e496263",
   "metadata": {},
   "outputs": [
    {
     "data": {
      "text/html": [
       "<div>\n",
       "<style scoped>\n",
       "    .dataframe tbody tr th:only-of-type {\n",
       "        vertical-align: middle;\n",
       "    }\n",
       "\n",
       "    .dataframe tbody tr th {\n",
       "        vertical-align: top;\n",
       "    }\n",
       "\n",
       "    .dataframe thead th {\n",
       "        text-align: right;\n",
       "    }\n",
       "</style>\n",
       "<table border=\"1\" class=\"dataframe\">\n",
       "  <thead>\n",
       "    <tr style=\"text-align: right;\">\n",
       "      <th></th>\n",
       "      <th>name</th>\n",
       "      <th>year</th>\n",
       "      <th>selling_price</th>\n",
       "      <th>km_driven</th>\n",
       "      <th>fuel</th>\n",
       "      <th>seller_type</th>\n",
       "      <th>transmission</th>\n",
       "      <th>owner</th>\n",
       "    </tr>\n",
       "  </thead>\n",
       "  <tbody>\n",
       "    <tr>\n",
       "      <th>0</th>\n",
       "      <td>Maruti 800 AC</td>\n",
       "      <td>2007</td>\n",
       "      <td>60000</td>\n",
       "      <td>70000</td>\n",
       "      <td>Petrol</td>\n",
       "      <td>Individual</td>\n",
       "      <td>Manual</td>\n",
       "      <td>First Owner</td>\n",
       "    </tr>\n",
       "    <tr>\n",
       "      <th>1</th>\n",
       "      <td>Maruti Wagon R LXI Minor</td>\n",
       "      <td>2007</td>\n",
       "      <td>135000</td>\n",
       "      <td>50000</td>\n",
       "      <td>Petrol</td>\n",
       "      <td>Individual</td>\n",
       "      <td>Manual</td>\n",
       "      <td>First Owner</td>\n",
       "    </tr>\n",
       "    <tr>\n",
       "      <th>2</th>\n",
       "      <td>Hyundai Verna 1.6 SX</td>\n",
       "      <td>2012</td>\n",
       "      <td>600000</td>\n",
       "      <td>100000</td>\n",
       "      <td>Diesel</td>\n",
       "      <td>Individual</td>\n",
       "      <td>Manual</td>\n",
       "      <td>First Owner</td>\n",
       "    </tr>\n",
       "    <tr>\n",
       "      <th>3</th>\n",
       "      <td>Datsun RediGO T Option</td>\n",
       "      <td>2017</td>\n",
       "      <td>250000</td>\n",
       "      <td>46000</td>\n",
       "      <td>Petrol</td>\n",
       "      <td>Individual</td>\n",
       "      <td>Manual</td>\n",
       "      <td>First Owner</td>\n",
       "    </tr>\n",
       "    <tr>\n",
       "      <th>4</th>\n",
       "      <td>Honda Amaze VX i-DTEC</td>\n",
       "      <td>2014</td>\n",
       "      <td>450000</td>\n",
       "      <td>141000</td>\n",
       "      <td>Diesel</td>\n",
       "      <td>Individual</td>\n",
       "      <td>Manual</td>\n",
       "      <td>Second Owner</td>\n",
       "    </tr>\n",
       "  </tbody>\n",
       "</table>\n",
       "</div>"
      ],
      "text/plain": [
       "                       name  year  selling_price  km_driven    fuel  \\\n",
       "0             Maruti 800 AC  2007          60000      70000  Petrol   \n",
       "1  Maruti Wagon R LXI Minor  2007         135000      50000  Petrol   \n",
       "2      Hyundai Verna 1.6 SX  2012         600000     100000  Diesel   \n",
       "3    Datsun RediGO T Option  2017         250000      46000  Petrol   \n",
       "4     Honda Amaze VX i-DTEC  2014         450000     141000  Diesel   \n",
       "\n",
       "  seller_type transmission         owner  \n",
       "0  Individual       Manual   First Owner  \n",
       "1  Individual       Manual   First Owner  \n",
       "2  Individual       Manual   First Owner  \n",
       "3  Individual       Manual   First Owner  \n",
       "4  Individual       Manual  Second Owner  "
      ]
     },
     "execution_count": 271,
     "metadata": {},
     "output_type": "execute_result"
    }
   ],
   "source": [
    "df.head()"
   ]
  },
  {
   "cell_type": "code",
   "execution_count": 272,
   "id": "a76f631f",
   "metadata": {},
   "outputs": [
    {
     "data": {
      "text/plain": [
       "<AxesSubplot:xlabel='seller_type', ylabel='count'>"
      ]
     },
     "execution_count": 272,
     "metadata": {},
     "output_type": "execute_result"
    },
    {
     "data": {
      "image/png": "[encoded data removed]",
      "text/plain": [
       "<Figure size 432x288 with 1 Axes>"
      ]
     },
     "metadata": {
      "needs_background": "light"
     },
     "output_type": "display_data"
    }
   ],
   "source": [
    "sns.countplot(x='seller_type', data=df)"
   ]
  },
  {
   "cell_type": "code",
   "execution_count": 273,
   "id": "a97cf2f0",
   "metadata": {},
   "outputs": [
    {
     "data": {
      "text/plain": [
       "<AxesSubplot:xlabel='owner', ylabel='count'>"
      ]
     },
     "execution_count": 273,
     "metadata": {},
     "output_type": "execute_result"
    },
    {
     "data": {
      "image/png": "[encoded data removed]",
      "text/plain": [
       "<Figure size 432x288 with 1 Axes>"
      ]
     },
     "metadata": {
      "needs_background": "light"
     },
     "output_type": "display_data"
    }
   ],
   "source": [
    "sns.countplot(x='owner', data=df)"
   ]
  },
  {
   "cell_type": "code",
   "execution_count": 274,
   "id": "3e384f58",
   "metadata": {
    "scrolled": true
   },
   "outputs": [
    {
     "data": {
      "text/plain": [
       "<AxesSubplot:xlabel='fuel', ylabel='count'>"
      ]
     },
     "execution_count": 274,
     "metadata": {},
     "output_type": "execute_result"
    },
    {
     "data": {
      "image/png": "[encoded data removed]",
      "text/plain": [
       "<Figure size 432x288 with 1 Axes>"
      ]
     },
     "metadata": {
      "needs_background": "light"
     },
     "output_type": "display_data"
    }
   ],
   "source": [
    "sns.countplot(x='fuel', data=df)"
   ]
  },
  {
   "cell_type": "code",
   "execution_count": 275,
   "id": "3d59f5f8",
   "metadata": {},
   "outputs": [
    {
     "data": {
      "text/plain": [
       "<AxesSubplot:xlabel='transmission', ylabel='count'>"
      ]
     },
     "execution_count": 275,
     "metadata": {},
     "output_type": "execute_result"
    },
    {
     "data": {
      "image/png": "[encoded data removed]",
      "text/plain": [
       "<Figure size 432x288 with 1 Axes>"
      ]
     },
     "metadata": {
      "needs_background": "light"
     },
     "output_type": "display_data"
    }
   ],
   "source": [
    "sns.countplot(x='transmission', data=df)"
   ]
  },
  {
   "cell_type": "code",
   "execution_count": 276,
   "id": "0f3b960b",
   "metadata": {},
   "outputs": [
    {
     "name": "stdout",
     "output_type": "stream",
     "text": [
      "<class 'pandas.core.frame.DataFrame'>\n",
      "RangeIndex: 4340 entries, 0 to 4339\n",
      "Data columns (total 8 columns):\n",
      " #   Column         Non-Null Count  Dtype \n",
      "---  ------         --------------  ----- \n",
      " 0   name           4340 non-null   object\n",
      " 1   year           4340 non-null   int64 \n",
      " 2   selling_price  4340 non-null   int64 \n",
      " 3   km_driven      4340 non-null   int64 \n",
      " 4   fuel           4340 non-null   object\n",
      " 5   seller_type    4340 non-null   object\n",
      " 6   transmission   4340 non-null   object\n",
      " 7   owner          4340 non-null   object\n",
      "dtypes: int64(3), object(5)\n",
      "memory usage: 271.4+ KB\n"
     ]
    }
   ],
   "source": [
    "df.info()"
   ]
  },
  {
   "cell_type": "code",
   "execution_count": 277,
   "id": "4ee89a4d",
   "metadata": {},
   "outputs": [
    {
     "data": {
      "text/plain": [
       "(4340, 8)"
      ]
     },
     "execution_count": 277,
     "metadata": {},
     "output_type": "execute_result"
    }
   ],
   "source": [
    "df.shape"
   ]
  },
  {
   "cell_type": "code",
   "execution_count": 278,
   "id": "8ad83792",
   "metadata": {},
   "outputs": [
    {
     "data": {
      "text/html": [
       "<div>\n",
       "<style scoped>\n",
       "    .dataframe tbody tr th:only-of-type {\n",
       "        vertical-align: middle;\n",
       "    }\n",
       "\n",
       "    .dataframe tbody tr th {\n",
       "        vertical-align: top;\n",
       "    }\n",
       "\n",
       "    .dataframe thead th {\n",
       "        text-align: right;\n",
       "    }\n",
       "</style>\n",
       "<table border=\"1\" class=\"dataframe\">\n",
       "  <thead>\n",
       "    <tr style=\"text-align: right;\">\n",
       "      <th></th>\n",
       "      <th>year</th>\n",
       "      <th>selling_price</th>\n",
       "      <th>km_driven</th>\n",
       "    </tr>\n",
       "  </thead>\n",
       "  <tbody>\n",
       "    <tr>\n",
       "      <th>count</th>\n",
       "      <td>4340.000000</td>\n",
       "      <td>4.340000e+03</td>\n",
       "      <td>4340.000000</td>\n",
       "    </tr>\n",
       "    <tr>\n",
       "      <th>mean</th>\n",
       "      <td>2013.090783</td>\n",
       "      <td>5.041273e+05</td>\n",
       "      <td>66215.777419</td>\n",
       "    </tr>\n",
       "    <tr>\n",
       "      <th>std</th>\n",
       "      <td>4.215344</td>\n",
       "      <td>5.785487e+05</td>\n",
       "      <td>46644.102194</td>\n",
       "    </tr>\n",
       "    <tr>\n",
       "      <th>min</th>\n",
       "      <td>1992.000000</td>\n",
       "      <td>2.000000e+04</td>\n",
       "      <td>1.000000</td>\n",
       "    </tr>\n",
       "    <tr>\n",
       "      <th>25%</th>\n",
       "      <td>2011.000000</td>\n",
       "      <td>2.087498e+05</td>\n",
       "      <td>35000.000000</td>\n",
       "    </tr>\n",
       "    <tr>\n",
       "      <th>50%</th>\n",
       "      <td>2014.000000</td>\n",
       "      <td>3.500000e+05</td>\n",
       "      <td>60000.000000</td>\n",
       "    </tr>\n",
       "    <tr>\n",
       "      <th>75%</th>\n",
       "      <td>2016.000000</td>\n",
       "      <td>6.000000e+05</td>\n",
       "      <td>90000.000000</td>\n",
       "    </tr>\n",
       "    <tr>\n",
       "      <th>max</th>\n",
       "      <td>2020.000000</td>\n",
       "      <td>8.900000e+06</td>\n",
       "      <td>806599.000000</td>\n",
       "    </tr>\n",
       "  </tbody>\n",
       "</table>\n",
       "</div>"
      ],
      "text/plain": [
       "              year  selling_price      km_driven\n",
       "count  4340.000000   4.340000e+03    4340.000000\n",
       "mean   2013.090783   5.041273e+05   66215.777419\n",
       "std       4.215344   5.785487e+05   46644.102194\n",
       "min    1992.000000   2.000000e+04       1.000000\n",
       "25%    2011.000000   2.087498e+05   35000.000000\n",
       "50%    2014.000000   3.500000e+05   60000.000000\n",
       "75%    2016.000000   6.000000e+05   90000.000000\n",
       "max    2020.000000   8.900000e+06  806599.000000"
      ]
     },
     "execution_count": 278,
     "metadata": {},
     "output_type": "execute_result"
    }
   ],
   "source": [
    "df.describe()"
   ]
  },
  {
   "cell_type": "code",
   "execution_count": 279,
   "id": "a5a231da",
   "metadata": {},
   "outputs": [
    {
     "data": {
      "text/html": [
       "<div>\n",
       "<style scoped>\n",
       "    .dataframe tbody tr th:only-of-type {\n",
       "        vertical-align: middle;\n",
       "    }\n",
       "\n",
       "    .dataframe tbody tr th {\n",
       "        vertical-align: top;\n",
       "    }\n",
       "\n",
       "    .dataframe thead th {\n",
       "        text-align: right;\n",
       "    }\n",
       "</style>\n",
       "<table border=\"1\" class=\"dataframe\">\n",
       "  <thead>\n",
       "    <tr style=\"text-align: right;\">\n",
       "      <th></th>\n",
       "      <th>name</th>\n",
       "      <th>year</th>\n",
       "      <th>selling_price</th>\n",
       "      <th>km_driven</th>\n",
       "      <th>fuel</th>\n",
       "      <th>seller_type</th>\n",
       "      <th>transmission</th>\n",
       "      <th>owner</th>\n",
       "    </tr>\n",
       "  </thead>\n",
       "  <tbody>\n",
       "    <tr>\n",
       "      <th>count</th>\n",
       "      <td>4340</td>\n",
       "      <td>4340.000000</td>\n",
       "      <td>4.340000e+03</td>\n",
       "      <td>4340.000000</td>\n",
       "      <td>4340</td>\n",
       "      <td>4340</td>\n",
       "      <td>4340</td>\n",
       "      <td>4340</td>\n",
       "    </tr>\n",
       "    <tr>\n",
       "      <th>unique</th>\n",
       "      <td>1491</td>\n",
       "      <td>NaN</td>\n",
       "      <td>NaN</td>\n",
       "      <td>NaN</td>\n",
       "      <td>5</td>\n",
       "      <td>3</td>\n",
       "      <td>2</td>\n",
       "      <td>5</td>\n",
       "    </tr>\n",
       "    <tr>\n",
       "      <th>top</th>\n",
       "      <td>Maruti Swift Dzire VDI</td>\n",
       "      <td>NaN</td>\n",
       "      <td>NaN</td>\n",
       "      <td>NaN</td>\n",
       "      <td>Diesel</td>\n",
       "      <td>Individual</td>\n",
       "      <td>Manual</td>\n",
       "      <td>First Owner</td>\n",
       "    </tr>\n",
       "    <tr>\n",
       "      <th>freq</th>\n",
       "      <td>69</td>\n",
       "      <td>NaN</td>\n",
       "      <td>NaN</td>\n",
       "      <td>NaN</td>\n",
       "      <td>2153</td>\n",
       "      <td>3244</td>\n",
       "      <td>3892</td>\n",
       "      <td>2832</td>\n",
       "    </tr>\n",
       "    <tr>\n",
       "      <th>mean</th>\n",
       "      <td>NaN</td>\n",
       "      <td>2013.090783</td>\n",
       "      <td>5.041273e+05</td>\n",
       "      <td>66215.777419</td>\n",
       "      <td>NaN</td>\n",
       "      <td>NaN</td>\n",
       "      <td>NaN</td>\n",
       "      <td>NaN</td>\n",
       "    </tr>\n",
       "    <tr>\n",
       "      <th>std</th>\n",
       "      <td>NaN</td>\n",
       "      <td>4.215344</td>\n",
       "      <td>5.785487e+05</td>\n",
       "      <td>46644.102194</td>\n",
       "      <td>NaN</td>\n",
       "      <td>NaN</td>\n",
       "      <td>NaN</td>\n",
       "      <td>NaN</td>\n",
       "    </tr>\n",
       "    <tr>\n",
       "      <th>min</th>\n",
       "      <td>NaN</td>\n",
       "      <td>1992.000000</td>\n",
       "      <td>2.000000e+04</td>\n",
       "      <td>1.000000</td>\n",
       "      <td>NaN</td>\n",
       "      <td>NaN</td>\n",
       "      <td>NaN</td>\n",
       "      <td>NaN</td>\n",
       "    </tr>\n",
       "    <tr>\n",
       "      <th>25%</th>\n",
       "      <td>NaN</td>\n",
       "      <td>2011.000000</td>\n",
       "      <td>2.087498e+05</td>\n",
       "      <td>35000.000000</td>\n",
       "      <td>NaN</td>\n",
       "      <td>NaN</td>\n",
       "      <td>NaN</td>\n",
       "      <td>NaN</td>\n",
       "    </tr>\n",
       "    <tr>\n",
       "      <th>50%</th>\n",
       "      <td>NaN</td>\n",
       "      <td>2014.000000</td>\n",
       "      <td>3.500000e+05</td>\n",
       "      <td>60000.000000</td>\n",
       "      <td>NaN</td>\n",
       "      <td>NaN</td>\n",
       "      <td>NaN</td>\n",
       "      <td>NaN</td>\n",
       "    </tr>\n",
       "    <tr>\n",
       "      <th>75%</th>\n",
       "      <td>NaN</td>\n",
       "      <td>2016.000000</td>\n",
       "      <td>6.000000e+05</td>\n",
       "      <td>90000.000000</td>\n",
       "      <td>NaN</td>\n",
       "      <td>NaN</td>\n",
       "      <td>NaN</td>\n",
       "      <td>NaN</td>\n",
       "    </tr>\n",
       "    <tr>\n",
       "      <th>max</th>\n",
       "      <td>NaN</td>\n",
       "      <td>2020.000000</td>\n",
       "      <td>8.900000e+06</td>\n",
       "      <td>806599.000000</td>\n",
       "      <td>NaN</td>\n",
       "      <td>NaN</td>\n",
       "      <td>NaN</td>\n",
       "      <td>NaN</td>\n",
       "    </tr>\n",
       "  </tbody>\n",
       "</table>\n",
       "</div>"
      ],
      "text/plain": [
       "                          name         year  selling_price      km_driven  \\\n",
       "count                     4340  4340.000000   4.340000e+03    4340.000000   \n",
       "unique                    1491          NaN            NaN            NaN   \n",
       "top     Maruti Swift Dzire VDI          NaN            NaN            NaN   \n",
       "freq                        69          NaN            NaN            NaN   \n",
       "mean                       NaN  2013.090783   5.041273e+05   66215.777419   \n",
       "std                        NaN     4.215344   5.785487e+05   46644.102194   \n",
       "min                        NaN  1992.000000   2.000000e+04       1.000000   \n",
       "25%                        NaN  2011.000000   2.087498e+05   35000.000000   \n",
       "50%                        NaN  2014.000000   3.500000e+05   60000.000000   \n",
       "75%                        NaN  2016.000000   6.000000e+05   90000.000000   \n",
       "max                        NaN  2020.000000   8.900000e+06  806599.000000   \n",
       "\n",
       "          fuel seller_type transmission        owner  \n",
       "count     4340        4340         4340         4340  \n",
       "unique       5           3            2            5  \n",
       "top     Diesel  Individual       Manual  First Owner  \n",
       "freq      2153        3244         3892         2832  \n",
       "mean       NaN         NaN          NaN          NaN  \n",
       "std        NaN         NaN          NaN          NaN  \n",
       "min        NaN         NaN          NaN          NaN  \n",
       "25%        NaN         NaN          NaN          NaN  \n",
       "50%        NaN         NaN          NaN          NaN  \n",
       "75%        NaN         NaN          NaN          NaN  \n",
       "max        NaN         NaN          NaN          NaN  "
      ]
     },
     "execution_count": 279,
     "metadata": {},
     "output_type": "execute_result"
    }
   ],
   "source": [
    "df.describe(include='all')"
   ]
  },
  {
   "cell_type": "code",
   "execution_count": 280,
   "id": "52138e25",
   "metadata": {},
   "outputs": [
    {
     "data": {
      "text/plain": [
       "name             0\n",
       "year             0\n",
       "selling_price    0\n",
       "km_driven        0\n",
       "fuel             0\n",
       "seller_type      0\n",
       "transmission     0\n",
       "owner            0\n",
       "dtype: int64"
      ]
     },
     "execution_count": 280,
     "metadata": {},
     "output_type": "execute_result"
    }
   ],
   "source": [
    "df.isna().sum()"
   ]
  },
  {
   "cell_type": "code",
   "execution_count": 281,
   "id": "2d61fb65",
   "metadata": {
    "scrolled": false
   },
   "outputs": [
    {
     "data": {
      "text/html": [
       "<div>\n",
       "<style scoped>\n",
       "    .dataframe tbody tr th:only-of-type {\n",
       "        vertical-align: middle;\n",
       "    }\n",
       "\n",
       "    .dataframe tbody tr th {\n",
       "        vertical-align: top;\n",
       "    }\n",
       "\n",
       "    .dataframe thead th {\n",
       "        text-align: right;\n",
       "    }\n",
       "</style>\n",
       "<table border=\"1\" class=\"dataframe\">\n",
       "  <thead>\n",
       "    <tr style=\"text-align: right;\">\n",
       "      <th></th>\n",
       "      <th>name</th>\n",
       "      <th>year</th>\n",
       "      <th>selling_price</th>\n",
       "      <th>km_driven</th>\n",
       "      <th>fuel</th>\n",
       "      <th>seller_type</th>\n",
       "      <th>transmission</th>\n",
       "      <th>owner</th>\n",
       "    </tr>\n",
       "  </thead>\n",
       "  <tbody>\n",
       "    <tr>\n",
       "      <th>0</th>\n",
       "      <td>Maruti 800 AC</td>\n",
       "      <td>2007</td>\n",
       "      <td>60000</td>\n",
       "      <td>70000</td>\n",
       "      <td>Petrol</td>\n",
       "      <td>Individual</td>\n",
       "      <td>Manual</td>\n",
       "      <td>First Owner</td>\n",
       "    </tr>\n",
       "    <tr>\n",
       "      <th>1</th>\n",
       "      <td>Maruti Wagon R LXI Minor</td>\n",
       "      <td>2007</td>\n",
       "      <td>135000</td>\n",
       "      <td>50000</td>\n",
       "      <td>Petrol</td>\n",
       "      <td>Individual</td>\n",
       "      <td>Manual</td>\n",
       "      <td>First Owner</td>\n",
       "    </tr>\n",
       "    <tr>\n",
       "      <th>2</th>\n",
       "      <td>Hyundai Verna 1.6 SX</td>\n",
       "      <td>2012</td>\n",
       "      <td>600000</td>\n",
       "      <td>100000</td>\n",
       "      <td>Diesel</td>\n",
       "      <td>Individual</td>\n",
       "      <td>Manual</td>\n",
       "      <td>First Owner</td>\n",
       "    </tr>\n",
       "    <tr>\n",
       "      <th>3</th>\n",
       "      <td>Datsun RediGO T Option</td>\n",
       "      <td>2017</td>\n",
       "      <td>250000</td>\n",
       "      <td>46000</td>\n",
       "      <td>Petrol</td>\n",
       "      <td>Individual</td>\n",
       "      <td>Manual</td>\n",
       "      <td>First Owner</td>\n",
       "    </tr>\n",
       "    <tr>\n",
       "      <th>4</th>\n",
       "      <td>Honda Amaze VX i-DTEC</td>\n",
       "      <td>2014</td>\n",
       "      <td>450000</td>\n",
       "      <td>141000</td>\n",
       "      <td>Diesel</td>\n",
       "      <td>Individual</td>\n",
       "      <td>Manual</td>\n",
       "      <td>Second Owner</td>\n",
       "    </tr>\n",
       "  </tbody>\n",
       "</table>\n",
       "</div>"
      ],
      "text/plain": [
       "                       name  year  selling_price  km_driven    fuel  \\\n",
       "0             Maruti 800 AC  2007          60000      70000  Petrol   \n",
       "1  Maruti Wagon R LXI Minor  2007         135000      50000  Petrol   \n",
       "2      Hyundai Verna 1.6 SX  2012         600000     100000  Diesel   \n",
       "3    Datsun RediGO T Option  2017         250000      46000  Petrol   \n",
       "4     Honda Amaze VX i-DTEC  2014         450000     141000  Diesel   \n",
       "\n",
       "  seller_type transmission         owner  \n",
       "0  Individual       Manual   First Owner  \n",
       "1  Individual       Manual   First Owner  \n",
       "2  Individual       Manual   First Owner  \n",
       "3  Individual       Manual   First Owner  \n",
       "4  Individual       Manual  Second Owner  "
      ]
     },
     "execution_count": 281,
     "metadata": {},
     "output_type": "execute_result"
    }
   ],
   "source": [
    "df.head()"
   ]
  },
  {
   "cell_type": "code",
   "execution_count": 282,
   "id": "73a7a18f",
   "metadata": {},
   "outputs": [],
   "source": [
    "le = LabelEncoder()\n",
    "df['fuel'] = le.fit_transform(df['fuel'])"
   ]
  },
  {
   "cell_type": "code",
   "execution_count": 283,
   "id": "9bf6a1b8",
   "metadata": {},
   "outputs": [
    {
     "data": {
      "text/plain": [
       "0       4\n",
       "1       4\n",
       "2       1\n",
       "3       4\n",
       "4       1\n",
       "       ..\n",
       "4335    1\n",
       "4336    1\n",
       "4337    4\n",
       "4338    1\n",
       "4339    4\n",
       "Name: fuel, Length: 4340, dtype: int32"
      ]
     },
     "execution_count": 283,
     "metadata": {},
     "output_type": "execute_result"
    }
   ],
   "source": [
    "df.fuel"
   ]
  },
  {
   "cell_type": "code",
   "execution_count": 284,
   "id": "d1ff634e",
   "metadata": {},
   "outputs": [],
   "source": [
    "df['seller_type'] = le.fit_transform(df['seller_type'])\n",
    "df['transmission'] = le.fit_transform(df['transmission'])\n",
    "df['owner'] = le.fit_transform(df['owner'])"
   ]
  },
  {
   "cell_type": "code",
   "execution_count": 285,
   "id": "ac9af496",
   "metadata": {
    "scrolled": true
   },
   "outputs": [
    {
     "data": {
      "text/plain": [
       "<AxesSubplot:>"
      ]
     },
     "execution_count": 285,
     "metadata": {},
     "output_type": "execute_result"
    },
    {
     "data": {
      "image/png": "[encoded data removed]",
      "text/plain": [
       "<Figure size 432x288 with 2 Axes>"
      ]
     },
     "metadata": {
      "needs_background": "light"
     },
     "output_type": "display_data"
    }
   ],
   "source": [
    "sns.heatmap(df.corr(), annot=True, cmap='coolwarm')"
   ]
  },
  {
   "cell_type": "code",
   "execution_count": 286,
   "id": "552800d2",
   "metadata": {},
   "outputs": [],
   "source": [
    "# Name sütunu corr analiziyle selling_price üzerinde çok etkili olmadığı için veri setinden çıkarıyorum.\n",
    "df = df.drop(labels=['name'], axis=1)"
   ]
  },
  {
   "cell_type": "code",
   "execution_count": 287,
   "id": "48aa52fe",
   "metadata": {
    "scrolled": true
   },
   "outputs": [
    {
     "data": {
      "text/html": [
       "<div>\n",
       "<style scoped>\n",
       "    .dataframe tbody tr th:only-of-type {\n",
       "        vertical-align: middle;\n",
       "    }\n",
       "\n",
       "    .dataframe tbody tr th {\n",
       "        vertical-align: top;\n",
       "    }\n",
       "\n",
       "    .dataframe thead th {\n",
       "        text-align: right;\n",
       "    }\n",
       "</style>\n",
       "<table border=\"1\" class=\"dataframe\">\n",
       "  <thead>\n",
       "    <tr style=\"text-align: right;\">\n",
       "      <th></th>\n",
       "      <th>year</th>\n",
       "      <th>selling_price</th>\n",
       "      <th>km_driven</th>\n",
       "      <th>fuel</th>\n",
       "      <th>seller_type</th>\n",
       "      <th>transmission</th>\n",
       "      <th>owner</th>\n",
       "    </tr>\n",
       "  </thead>\n",
       "  <tbody>\n",
       "    <tr>\n",
       "      <th>0</th>\n",
       "      <td>2007</td>\n",
       "      <td>60000</td>\n",
       "      <td>70000</td>\n",
       "      <td>4</td>\n",
       "      <td>1</td>\n",
       "      <td>1</td>\n",
       "      <td>0</td>\n",
       "    </tr>\n",
       "    <tr>\n",
       "      <th>1</th>\n",
       "      <td>2007</td>\n",
       "      <td>135000</td>\n",
       "      <td>50000</td>\n",
       "      <td>4</td>\n",
       "      <td>1</td>\n",
       "      <td>1</td>\n",
       "      <td>0</td>\n",
       "    </tr>\n",
       "    <tr>\n",
       "      <th>2</th>\n",
       "      <td>2012</td>\n",
       "      <td>600000</td>\n",
       "      <td>100000</td>\n",
       "      <td>1</td>\n",
       "      <td>1</td>\n",
       "      <td>1</td>\n",
       "      <td>0</td>\n",
       "    </tr>\n",
       "    <tr>\n",
       "      <th>3</th>\n",
       "      <td>2017</td>\n",
       "      <td>250000</td>\n",
       "      <td>46000</td>\n",
       "      <td>4</td>\n",
       "      <td>1</td>\n",
       "      <td>1</td>\n",
       "      <td>0</td>\n",
       "    </tr>\n",
       "    <tr>\n",
       "      <th>4</th>\n",
       "      <td>2014</td>\n",
       "      <td>450000</td>\n",
       "      <td>141000</td>\n",
       "      <td>1</td>\n",
       "      <td>1</td>\n",
       "      <td>1</td>\n",
       "      <td>2</td>\n",
       "    </tr>\n",
       "  </tbody>\n",
       "</table>\n",
       "</div>"
      ],
      "text/plain": [
       "   year  selling_price  km_driven  fuel  seller_type  transmission  owner\n",
       "0  2007          60000      70000     4            1             1      0\n",
       "1  2007         135000      50000     4            1             1      0\n",
       "2  2012         600000     100000     1            1             1      0\n",
       "3  2017         250000      46000     4            1             1      0\n",
       "4  2014         450000     141000     1            1             1      2"
      ]
     },
     "execution_count": 287,
     "metadata": {},
     "output_type": "execute_result"
    }
   ],
   "source": [
    "df.head()"
   ]
  },
  {
   "cell_type": "code",
   "execution_count": 288,
   "id": "e52d32bf",
   "metadata": {},
   "outputs": [],
   "source": [
    "# Train ve test dosyalarını ayırdım.\n",
    "X, y = df.drop('selling_price', axis=1), df.selling_price"
   ]
  },
  {
   "cell_type": "code",
   "execution_count": 289,
   "id": "78b8f501",
   "metadata": {},
   "outputs": [],
   "source": [
    "X_train02, X_test02, y_train02, y_test02 = train_test_split(X, y, test_size=0.2, random_state=42)\n",
    "\n",
    "X_train03, X_test03, y_train03, y_test03 = train_test_split(X, y, test_size=0.3, random_state=42)\n",
    "\n",
    "X_train04, X_test04, y_train04, y_test04 = train_test_split(X, y, test_size=0.4, random_state=42)"
   ]
  },
  {
   "cell_type": "code",
   "execution_count": 290,
   "id": "b9528613",
   "metadata": {},
   "outputs": [
    {
     "name": "stdout",
     "output_type": "stream",
     "text": [
      "(3472, 6)\n",
      "(3038, 6)\n",
      "(2604, 6)\n"
     ]
    }
   ],
   "source": [
    "print(X_train02.shape)\n",
    "print(X_train03.shape)\n",
    "print(X_train04.shape)"
   ]
  },
  {
   "cell_type": "code",
   "execution_count": 291,
   "id": "4eca5e57",
   "metadata": {},
   "outputs": [
    {
     "name": "stdout",
     "output_type": "stream",
     "text": [
      "(868, 6)\n",
      "(1302, 6)\n",
      "(1736, 6)\n"
     ]
    }
   ],
   "source": [
    "print(X_test02.shape)\n",
    "print(X_test03.shape)\n",
    "print(X_test04.shape)"
   ]
  },
  {
   "cell_type": "code",
   "execution_count": 292,
   "id": "ea5f3505",
   "metadata": {
    "scrolled": true
   },
   "outputs": [
    {
     "name": "stdout",
     "output_type": "stream",
     "text": [
      "(3472,)\n",
      "(3038,)\n",
      "(2604,)\n"
     ]
    }
   ],
   "source": [
    "print(y_train02.shape)\n",
    "print(y_train03.shape)\n",
    "print(y_train04.shape)"
   ]
  },
  {
   "cell_type": "code",
   "execution_count": 293,
   "id": "623b19f5",
   "metadata": {},
   "outputs": [
    {
     "name": "stdout",
     "output_type": "stream",
     "text": [
      "(868,)\n",
      "(1302,)\n",
      "(2604,)\n"
     ]
    }
   ],
   "source": [
    "print(y_test02.shape)\n",
    "print(y_test03.shape)\n",
    "print(y_train04.shape)"
   ]
  },
  {
   "cell_type": "code",
   "execution_count": 294,
   "id": "c0a2ced6",
   "metadata": {},
   "outputs": [
    {
     "name": "stdout",
     "output_type": "stream",
     "text": [
      "0.33103410107102793\n",
      "0.42772167224971125\n",
      "0.3418373384013216\n"
     ]
    }
   ],
   "source": [
    "dtr02 = DecisionTreeRegressor()\n",
    "dtr02.fit(X_train02, y_train02)\n",
    "y_pred_dtr02 = dtr02.predict(X_test02)\n",
    "dtr_result02= r2_score(y_test02, y_pred_dtr02)\n",
    "dtr_adj_r2_20 = 1 - (1-dtr02.score(X_test02, y_test02))*(len(y_test02)-1)/(len(y_test02)-X_test02.shape[1]-1)\n",
    "\n",
    "\n",
    "print(dtr_result02)\n",
    "\n",
    "dtr03 = DecisionTreeRegressor()\n",
    "dtr03.fit(X_train03, y_train03)\n",
    "y_pred_dtr03 = dtr03.predict(X_test03)\n",
    "dtr_result03= r2_score(y_test03, y_pred_dtr03)\n",
    "dtr_adj_r2_30 = 1 - (1-dtr03.score(X_test03, y_test03))*(len(y_test03)-1)/(len(y_test03)-X_test03.shape[1]-1)\n",
    "\n",
    "print(dtr_result03)\n",
    "\n",
    "dtr04 = DecisionTreeRegressor()\n",
    "dtr04.fit(X_train04, y_train04)\n",
    "y_pred_dtr04 = dtr04.predict(X_test04)\n",
    "dtr_result04= r2_score(y_test04, y_pred_dtr04)\n",
    "dtr_adj_r2_40 = 1 - (1-dtr04.score(X_test04, y_test04))*(len(y_test04)-1)/(len(y_test04)-X_test04.shape[1]-1)\n",
    "\n",
    "print(dtr_result04)"
   ]
  },
  {
   "cell_type": "code",
   "execution_count": 295,
   "id": "1a76e1be",
   "metadata": {
    "scrolled": true
   },
   "outputs": [
    {
     "name": "stdout",
     "output_type": "stream",
     "text": [
      "%20 Test Size Random Forest Regression Adjusted R2 Score Is: 0.4971625773335858\n",
      "%30 Test Size Random Forest Regression Adjusted R2 Score Is: 0.5231467639012947\n",
      "%40 Test Size Random Forest Regression Adjusted R2 Score Is: 0.5599261248514782\n"
     ]
    }
   ],
   "source": [
    "reg02 = RandomForestRegressor(n_estimators=300, random_state=42)\n",
    "reg02.fit(X_train02, y_train02)\n",
    "y_pred_reg02 = reg02.predict(X_test02)\n",
    "reg_result02 = r2_score(y_test02, y_pred_reg02)\n",
    "reg_adj_r2_20 = 1 - (1-reg02.score(X_test02, y_test02))*(len(y_test02)-1)/(len(y_test02)-X_test02.shape[1]-1)\n",
    "print('%20 Test Size Random Forest Regression Adjusted R2 Score Is: {}'.format(reg_adj_r2_20))\n",
    "\n",
    "reg03 = RandomForestRegressor(n_estimators=300, random_state=42)\n",
    "reg03.fit(X_train03, y_train03)\n",
    "y_pred_reg03 = reg03.predict(X_test03)\n",
    "reg_result03 = r2_score(y_test03, y_pred_reg03)\n",
    "reg_adj_r2_30 = 1 - (1-reg03.score(X_test03, y_test03))*(len(y_test03)-1)/(len(y_test03)-X_test03.shape[1]-1)\n",
    "print('%30 Test Size Random Forest Regression Adjusted R2 Score Is: {}'.format(reg_adj_r2_30))\n",
    "\n",
    "reg04 = RandomForestRegressor(n_estimators=300, random_state=42)\n",
    "reg04.fit(X_train04, y_train04)\n",
    "y_pred_reg04 = reg04.predict(X_test04)\n",
    "reg_result04 = r2_score(y_test04, y_pred_reg04)\n",
    "reg_adj_r2_40 = 1 - (1-reg04.score(X_test04, y_test04))*(len(y_test04)-1)/(len(y_test04)-X_test04.shape[1]-1)\n",
    "print('%40 Test Size Random Forest Regression Adjusted R2 Score Is: {}'.format(reg_adj_r2_40))"
   ]
  },
  {
   "cell_type": "code",
   "execution_count": 296,
   "id": "defacc74",
   "metadata": {},
   "outputs": [
    {
     "name": "stdout",
     "output_type": "stream",
     "text": [
      "%20 Test Size Linear Regression Adjusted R2 Score Is 0.3896771654980008\n",
      "%30 Test Size Linear Regression Adjusted R2 Score Is 0.4348751537761504\n",
      "%40 Test Size Linear Regression Adjusted R2 Score Is 0.43749494764959207\n"
     ]
    }
   ],
   "source": [
    "multi_reg02 = LinearRegression()\n",
    "multi_reg02.fit(X_train02, y_train02)\n",
    "y_pred_multi_reg02 = multi_reg02.predict(X_test02)\n",
    "multi_reg_result02 = r2_score(y_test02, y_pred_multi_reg02)\n",
    "mreg_adj_r2_20 = 1 - (1-multi_reg02.score(X_test02, y_test02))*(len(y_test02)-1)/(len(y_test02)-X_test02.shape[1]-1)\n",
    "print('%20 Test Size Linear Regression Adjusted R2 Score Is {}'.format(mreg_adj_r2_20))\n",
    "\n",
    "multi_reg03 = LinearRegression()\n",
    "multi_reg03.fit(X_train03, y_train03)\n",
    "y_pred_multi_reg03 = multi_reg03.predict(X_test03)\n",
    "multi_reg_result03 = r2_score(y_test03, y_pred_multi_reg03)\n",
    "mreg_adj_r2_30 = 1 - (1-multi_reg03.score(X_test03, y_test03))*(len(y_test03)-1)/(len(y_test03)-X_test03.shape[1]-1)\n",
    "print('%30 Test Size Linear Regression Adjusted R2 Score Is {}'.format(mreg_adj_r2_30))\n",
    "\n",
    "\n",
    "multi_reg04 = LinearRegression()\n",
    "multi_reg04.fit(X_train04, y_train04)\n",
    "y_pred_multi_reg04 = multi_reg04.predict(X_test04)\n",
    "multi_reg_result04 = r2_score(y_test04, y_pred_multi_reg04)\n",
    "mreg_adj_r2_40 = 1 - (1-multi_reg04.score(X_test04, y_test04))*(len(y_test04)-1)/(len(y_test04)-X_test04.shape[1]-1)\n",
    "print('%40 Test Size Linear Regression Adjusted R2 Score Is {}'.format(mreg_adj_r2_40))"
   ]
  },
  {
   "cell_type": "code",
   "execution_count": 299,
   "id": "4b0c4366",
   "metadata": {},
   "outputs": [],
   "source": [
    "scores2 = cross_val_score(dtr02, X,y,cv=5)\n",
    "scores3 = cross_val_score(reg04, X,y,cv=5)\n",
    "scores4  = cross_val_score(multi_reg04, X,y,cv=5)"
   ]
  },
  {
   "cell_type": "code",
   "execution_count": 300,
   "id": "194421b4",
   "metadata": {},
   "outputs": [
    {
     "data": {
      "text/plain": [
       "0.509531084956285"
      ]
     },
     "execution_count": 300,
     "metadata": {},
     "output_type": "execute_result"
    }
   ],
   "source": [
    "scores2.mean()\n",
    "\n",
    "#Decision Tree algoritmasına cross validation uygulanarak alınan değerlerin ortalamasının verdiği uygunluk."
   ]
  },
  {
   "cell_type": "code",
   "execution_count": 301,
   "id": "07ee33ed",
   "metadata": {},
   "outputs": [
    {
     "data": {
      "text/plain": [
       "0.6386698128557825"
      ]
     },
     "execution_count": 301,
     "metadata": {},
     "output_type": "execute_result"
    }
   ],
   "source": [
    "scores3.mean()\n",
    "\n",
    "#Random Forest algoritmasına cross validation uygulanarak alınan değerlerin ortalamasının verdiği uygunluk."
   ]
  },
  {
   "cell_type": "code",
   "execution_count": 302,
   "id": "c559268c",
   "metadata": {
    "scrolled": false
   },
   "outputs": [
    {
     "data": {
      "text/plain": [
       "0.4288055172173671"
      ]
     },
     "execution_count": 302,
     "metadata": {},
     "output_type": "execute_result"
    }
   ],
   "source": [
    "scores4.mean()\n",
    "\n",
    "#lineer Regresyon algoritmasına cross validation uygulanarak alınan değerlerin ortalamasının verdiği uygunluk."
   ]
  },
  {
   "cell_type": "code",
   "execution_count": 303,
   "id": "07cc6de5",
   "metadata": {},
   "outputs": [
    {
     "data": {
      "text/html": [
       "<div>\n",
       "<style scoped>\n",
       "    .dataframe tbody tr th:only-of-type {\n",
       "        vertical-align: middle;\n",
       "    }\n",
       "\n",
       "    .dataframe tbody tr th {\n",
       "        vertical-align: top;\n",
       "    }\n",
       "\n",
       "    .dataframe thead th {\n",
       "        text-align: right;\n",
       "    }\n",
       "</style>\n",
       "<table border=\"1\" class=\"dataframe\">\n",
       "  <thead>\n",
       "    <tr style=\"text-align: right;\">\n",
       "      <th></th>\n",
       "      <th>%20</th>\n",
       "      <th>Adjusted R2 Score</th>\n",
       "    </tr>\n",
       "  </thead>\n",
       "  <tbody>\n",
       "    <tr>\n",
       "      <th>0</th>\n",
       "      <td>Decision Tree Regressor</td>\n",
       "      <td>0.326372</td>\n",
       "    </tr>\n",
       "    <tr>\n",
       "      <th>1</th>\n",
       "      <td>Random Forest Regressor</td>\n",
       "      <td>0.497163</td>\n",
       "    </tr>\n",
       "    <tr>\n",
       "      <th>2</th>\n",
       "      <td>Linear Regressor</td>\n",
       "      <td>0.389677</td>\n",
       "    </tr>\n",
       "  </tbody>\n",
       "</table>\n",
       "</div>"
      ],
      "text/plain": [
       "                       %20  Adjusted R2 Score\n",
       "0  Decision Tree Regressor           0.326372\n",
       "1  Random Forest Regressor           0.497163\n",
       "2         Linear Regressor           0.389677"
      ]
     },
     "execution_count": 303,
     "metadata": {},
     "output_type": "execute_result"
    }
   ],
   "source": [
    "pd.DataFrame({'%20':['Decision Tree Regressor','Random Forest Regressor', 'Linear Regressor'],\n",
    "             'Adjusted R2 Score':[dtr_adj_r2_20,reg_adj_r2_20,mreg_adj_r2_20]})"
   ]
  },
  {
   "cell_type": "code",
   "execution_count": 304,
   "id": "fd532b0d",
   "metadata": {},
   "outputs": [
    {
     "data": {
      "text/html": [
       "<div>\n",
       "<style scoped>\n",
       "    .dataframe tbody tr th:only-of-type {\n",
       "        vertical-align: middle;\n",
       "    }\n",
       "\n",
       "    .dataframe tbody tr th {\n",
       "        vertical-align: top;\n",
       "    }\n",
       "\n",
       "    .dataframe thead th {\n",
       "        text-align: right;\n",
       "    }\n",
       "</style>\n",
       "<table border=\"1\" class=\"dataframe\">\n",
       "  <thead>\n",
       "    <tr style=\"text-align: right;\">\n",
       "      <th></th>\n",
       "      <th>%30</th>\n",
       "      <th>R^2 Scores</th>\n",
       "    </tr>\n",
       "  </thead>\n",
       "  <tbody>\n",
       "    <tr>\n",
       "      <th>0</th>\n",
       "      <td>Decision Tree Regressor</td>\n",
       "      <td>0.425070</td>\n",
       "    </tr>\n",
       "    <tr>\n",
       "      <th>1</th>\n",
       "      <td>Random Forest Regressor</td>\n",
       "      <td>0.523147</td>\n",
       "    </tr>\n",
       "    <tr>\n",
       "      <th>2</th>\n",
       "      <td>Linear Regressor</td>\n",
       "      <td>0.434875</td>\n",
       "    </tr>\n",
       "  </tbody>\n",
       "</table>\n",
       "</div>"
      ],
      "text/plain": [
       "                       %30  R^2 Scores\n",
       "0  Decision Tree Regressor    0.425070\n",
       "1  Random Forest Regressor    0.523147\n",
       "2         Linear Regressor    0.434875"
      ]
     },
     "execution_count": 304,
     "metadata": {},
     "output_type": "execute_result"
    }
   ],
   "source": [
    "pd.DataFrame({'%30':['Decision Tree Regressor','Random Forest Regressor', 'Linear Regressor'],\n",
    "             'R^2 Scores':[dtr_adj_r2_30,reg_adj_r2_30,mreg_adj_r2_30]})"
   ]
  },
  {
   "cell_type": "code",
   "execution_count": 305,
   "id": "011d05a3",
   "metadata": {},
   "outputs": [
    {
     "data": {
      "text/html": [
       "<div>\n",
       "<style scoped>\n",
       "    .dataframe tbody tr th:only-of-type {\n",
       "        vertical-align: middle;\n",
       "    }\n",
       "\n",
       "    .dataframe tbody tr th {\n",
       "        vertical-align: top;\n",
       "    }\n",
       "\n",
       "    .dataframe thead th {\n",
       "        text-align: right;\n",
       "    }\n",
       "</style>\n",
       "<table border=\"1\" class=\"dataframe\">\n",
       "  <thead>\n",
       "    <tr style=\"text-align: right;\">\n",
       "      <th></th>\n",
       "      <th>%40</th>\n",
       "      <th>R^2 Scores</th>\n",
       "    </tr>\n",
       "  </thead>\n",
       "  <tbody>\n",
       "    <tr>\n",
       "      <th>0</th>\n",
       "      <td>Decision Tree Regressor</td>\n",
       "      <td>0.339553</td>\n",
       "    </tr>\n",
       "    <tr>\n",
       "      <th>1</th>\n",
       "      <td>Random Forest Regressor</td>\n",
       "      <td>0.559926</td>\n",
       "    </tr>\n",
       "    <tr>\n",
       "      <th>2</th>\n",
       "      <td>Linear Regressor</td>\n",
       "      <td>0.437495</td>\n",
       "    </tr>\n",
       "  </tbody>\n",
       "</table>\n",
       "</div>"
      ],
      "text/plain": [
       "                       %40  R^2 Scores\n",
       "0  Decision Tree Regressor    0.339553\n",
       "1  Random Forest Regressor    0.559926\n",
       "2         Linear Regressor    0.437495"
      ]
     },
     "execution_count": 305,
     "metadata": {},
     "output_type": "execute_result"
    }
   ],
   "source": [
    "pd.DataFrame({'%40':['Decision Tree Regressor','Random Forest Regressor', 'Linear Regressor'],\n",
    "             'R^2 Scores':[dtr_adj_r2_40,reg_adj_r2_40,mreg_adj_r2_40]})"
   ]
  },
  {
   "cell_type": "code",
   "execution_count": 306,
   "id": "612d6108",
   "metadata": {},
   "outputs": [
    {
     "data": {
      "text/html": [
       "<div>\n",
       "<style scoped>\n",
       "    .dataframe tbody tr th:only-of-type {\n",
       "        vertical-align: middle;\n",
       "    }\n",
       "\n",
       "    .dataframe tbody tr th {\n",
       "        vertical-align: top;\n",
       "    }\n",
       "\n",
       "    .dataframe thead th {\n",
       "        text-align: right;\n",
       "    }\n",
       "</style>\n",
       "<table border=\"1\" class=\"dataframe\">\n",
       "  <thead>\n",
       "    <tr style=\"text-align: right;\">\n",
       "      <th></th>\n",
       "      <th>Cross Validation</th>\n",
       "      <th>Mean Score</th>\n",
       "    </tr>\n",
       "  </thead>\n",
       "  <tbody>\n",
       "    <tr>\n",
       "      <th>0</th>\n",
       "      <td>Decision Tree Regressor</td>\n",
       "      <td>0.509531</td>\n",
       "    </tr>\n",
       "    <tr>\n",
       "      <th>1</th>\n",
       "      <td>Random Forest Regressor</td>\n",
       "      <td>0.638670</td>\n",
       "    </tr>\n",
       "    <tr>\n",
       "      <th>2</th>\n",
       "      <td>Linear Regressor</td>\n",
       "      <td>0.428806</td>\n",
       "    </tr>\n",
       "  </tbody>\n",
       "</table>\n",
       "</div>"
      ],
      "text/plain": [
       "          Cross Validation  Mean Score\n",
       "0  Decision Tree Regressor    0.509531\n",
       "1  Random Forest Regressor    0.638670\n",
       "2         Linear Regressor    0.428806"
      ]
     },
     "execution_count": 306,
     "metadata": {},
     "output_type": "execute_result"
    }
   ],
   "source": [
    "pd.DataFrame({'Cross Validation':['Decision Tree Regressor','Random Forest Regressor', 'Linear Regressor'],\n",
    "             'Mean Score':[scores2.mean(),scores3.mean(),scores4.mean()]})"
   ]
  },
  {
   "cell_type": "code",
   "execution_count": 307,
   "id": "78eb8604",
   "metadata": {},
   "outputs": [],
   "source": [
    "# Random Forest Regressor en iyi sonucu verir."
   ]
  },
  {
   "cell_type": "code",
   "execution_count": null,
   "id": "aee94c94",
   "metadata": {},
   "outputs": [],
   "source": []
  }
 ],
 "metadata": {
  "kernelspec": {
   "display_name": "Python 3 (ipykernel)",
   "language": "python",
   "name": "python3"
  },
  "language_info": {
   "codemirror_mode": {
    "name": "ipython",
    "version": 3
   },
   "file_extension": ".py",
   "mimetype": "text/x-python",
   "name": "python",
   "nbconvert_exporter": "python",
   "pygments_lexer": "ipython3",
   "version": "3.9.12"
  }
 },
 "nbformat": 4,
 "nbformat_minor": 5
}
